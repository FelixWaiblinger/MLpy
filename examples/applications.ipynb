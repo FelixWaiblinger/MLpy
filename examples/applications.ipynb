{
 "cells": [
  {
   "cell_type": "code",
   "execution_count": null,
   "metadata": {},
   "outputs": [],
   "source": [
    "import os\n",
    "from mlpy.network.models import Perceptron, Sequential\n",
    "from mlpy.network.layers import Dense, Sigmoid\n",
    "from mlpy.network.losses import CCE\n",
    "from mlpy.evaluation import ACC\n",
    "from mlpy.data import load_mnist"
   ]
  },
  {
   "cell_type": "code",
   "execution_count": null,
   "metadata": {},
   "outputs": [],
   "source": [
    "MODEL_PATH = \"model.npz\""
   ]
  },
  {
   "cell_type": "markdown",
   "metadata": {},
   "source": [
    "Use a predefined model architecture"
   ]
  },
  {
   "cell_type": "code",
   "execution_count": null,
   "metadata": {},
   "outputs": [],
   "source": [
    "mlp = Perceptron(shape_in=784, shape_out=10, num_hidden=1, num_units=256)\n",
    "mlp.compile(loss=CCE, lr=0.01)"
   ]
  },
  {
   "cell_type": "code",
   "execution_count": null,
   "metadata": {},
   "outputs": [],
   "source": [
    "# either load pretrained weights or train the model\n",
    "if not os.path.exists(MODEL_PATH):\n",
    "    x_train, y_train, x_test, y_test = load_mnist(split='both')\n",
    "\n",
    "    # before training\n",
    "    predictions = [mlp.predict(sample) for sample in x_test]\n",
    "    print(f\"Test set acurracy before training: \\\n",
    "          {ACC(predictions, y_test) * 100:.2f}%\")\n",
    "\n",
    "    mlp.train(x=x_train, y=y_train, epochs=3)\n",
    "    mlp.save_model(MODEL_PATH)\n",
    "else:\n",
    "    x_test, y_test = load_mnist(split='test')\n",
    "    mlp.load_model(MODEL_PATH)"
   ]
  },
  {
   "cell_type": "code",
   "execution_count": null,
   "metadata": {},
   "outputs": [],
   "source": [
    "# after training\n",
    "predictions = [mlp.predict(sample) for sample in x_test]\n",
    "print(\"Test set acurracy before training: {:.2f}%\"\n",
    "            .format(ACC(predictions, y_test) * 100))"
   ]
  },
  {
   "cell_type": "markdown",
   "metadata": {},
   "source": [
    "Define model architecture by yourself"
   ]
  },
  {
   "cell_type": "code",
   "execution_count": null,
   "metadata": {},
   "outputs": [],
   "source": [
    "nn = Sequential()\n",
    "\n",
    "nn.append(Dense(features_in=784, features_out=256))\n",
    "nn.append(Sigmoid())\n",
    "nn.append(Dense(features_in=256, features_out=64))\n",
    "nn.append(Sigmoid())\n",
    "nn.append(Dense(features_in=64, features_out=10))\n",
    "\n",
    "nn.compile(loss=CCE, lr=0.01)"
   ]
  }
 ],
 "metadata": {
  "language_info": {
   "name": "python"
  }
 },
 "nbformat": 4,
 "nbformat_minor": 2
}
