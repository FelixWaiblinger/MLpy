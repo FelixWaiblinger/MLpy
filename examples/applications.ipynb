{
 "cells": [
  {
   "cell_type": "code",
   "execution_count": null,
   "metadata": {},
   "outputs": [],
   "source": [
    "import os\n",
    "from mlpy.data.public_datasets import MNISTDataset\n",
    "from mlpy.network.models import Perceptron, Sequential\n",
    "from mlpy.network.layers import Dense, Sigmoid\n",
    "from mlpy.network.losses import CCE\n",
    "from mlpy.evaluation import ACC"
   ]
  },
  {
   "cell_type": "code",
   "execution_count": null,
   "metadata": {},
   "outputs": [],
   "source": [
    "DATA_PATH = \"datasets/mnist\"\n",
    "MODEL_PATH = \"model.npz\""
   ]
  },
  {
   "cell_type": "markdown",
   "metadata": {},
   "source": [
    "Use a predefined model architecture"
   ]
  },
  {
   "cell_type": "code",
   "execution_count": null,
   "metadata": {},
   "outputs": [],
   "source": [
    "dataset = MNISTDataset(DATA_PATH)\n",
    "x_train, y_train, x_test, y_test = dataset"
   ]
  },
  {
   "cell_type": "code",
   "execution_count": 4,
   "metadata": {},
   "outputs": [
    {
     "ename": "TypeError",
     "evalue": "Can't instantiate abstract class Perceptron without an implementation for abstract methods 'backward', 'forward', 'load_model'",
     "output_type": "error",
     "traceback": [
      "\u001b[0;31m---------------------------------------------------------------------------\u001b[0m",
      "\u001b[0;31mTypeError\u001b[0m                                 Traceback (most recent call last)",
      "Cell \u001b[0;32mIn[4], line 1\u001b[0m\n\u001b[0;32m----> 1\u001b[0m mlp \u001b[38;5;241m=\u001b[39m \u001b[43mPerceptron\u001b[49m\u001b[43m(\u001b[49m\u001b[43mshape_in\u001b[49m\u001b[38;5;241;43m=\u001b[39;49m\u001b[38;5;241;43m784\u001b[39;49m\u001b[43m,\u001b[49m\u001b[43m \u001b[49m\u001b[43mshape_out\u001b[49m\u001b[38;5;241;43m=\u001b[39;49m\u001b[38;5;241;43m10\u001b[39;49m\u001b[43m,\u001b[49m\u001b[43m \u001b[49m\u001b[43mnum_hidden\u001b[49m\u001b[38;5;241;43m=\u001b[39;49m\u001b[38;5;241;43m1\u001b[39;49m\u001b[43m,\u001b[49m\u001b[43m \u001b[49m\u001b[43mnum_units\u001b[49m\u001b[38;5;241;43m=\u001b[39;49m\u001b[38;5;241;43m256\u001b[39;49m\u001b[43m)\u001b[49m\n\u001b[1;32m      2\u001b[0m mlp\u001b[38;5;241m.\u001b[39mcompile(loss\u001b[38;5;241m=\u001b[39mCCE, lr\u001b[38;5;241m=\u001b[39m\u001b[38;5;241m0.01\u001b[39m)\n",
      "\u001b[0;31mTypeError\u001b[0m: Can't instantiate abstract class Perceptron without an implementation for abstract methods 'backward', 'forward', 'load_model'"
     ]
    }
   ],
   "source": [
    "mlp = Perceptron(shape_in=784, shape_out=10, num_hidden=1, num_units=256)\n",
    "mlp.compile(loss=CCE, lr=0.01)"
   ]
  },
  {
   "cell_type": "code",
   "execution_count": null,
   "metadata": {},
   "outputs": [],
   "source": [
    "# either load pretrained weights or train the model\n",
    "if not os.path.exists(MODEL_PATH):\n",
    "    # before training\n",
    "    predictions = mlp.predict(x_test)\n",
    "    print(f\"Test set acurracy before training: \\\n",
    "          {ACC(predictions, y_test) * 100:.2f}%\")\n",
    "\n",
    "    mlp.train(x=x_train, y=y_train, epochs=3)\n",
    "\n",
    "    mlp.save_model(MODEL_PATH)\n",
    "    \n",
    "else:\n",
    "    mlp.load_model(MODEL_PATH)"
   ]
  },
  {
   "cell_type": "code",
   "execution_count": null,
   "metadata": {},
   "outputs": [],
   "source": [
    "# after training\n",
    "predictions = mlp.predict(x_test)\n",
    "print(f\"Test set acurracy after training: \\\n",
    "      {ACC(predictions, y_test) * 100:.2f}%\")"
   ]
  },
  {
   "cell_type": "markdown",
   "metadata": {},
   "source": [
    "Define model architecture by yourself"
   ]
  },
  {
   "cell_type": "code",
   "execution_count": null,
   "metadata": {},
   "outputs": [],
   "source": [
    "nn = Sequential()\n",
    "\n",
    "nn.append(Dense(features_in=784, features_out=256))\n",
    "nn.append(Sigmoid())\n",
    "nn.append(Dense(features_in=256, features_out=64))\n",
    "nn.append(Sigmoid())\n",
    "nn.append(Dense(features_in=64, features_out=10))\n",
    "\n",
    "nn.compile(loss=CCE, lr=0.01)"
   ]
  }
 ],
 "metadata": {
  "kernelspec": {
   "display_name": "mlpy",
   "language": "python",
   "name": "python3"
  },
  "language_info": {
   "codemirror_mode": {
    "name": "ipython",
    "version": 3
   },
   "file_extension": ".py",
   "mimetype": "text/x-python",
   "name": "python",
   "nbconvert_exporter": "python",
   "pygments_lexer": "ipython3",
   "version": "3.12.2"
  }
 },
 "nbformat": 4,
 "nbformat_minor": 2
}
